{
 "cells": [
  {
   "cell_type": "code",
   "id": "initial_id",
   "metadata": {
    "collapsed": true,
    "ExecuteTime": {
     "end_time": "2025-06-15T19:24:02.810745Z",
     "start_time": "2025-06-15T19:24:02.588160Z"
    }
   },
   "source": [
    "# Import libraries\n",
    "\n",
    "import pandas as pd\n",
    "import openpyxl\n",
    "import matplotlib.pyplot as plt\n",
    "\n"
   ],
   "outputs": [],
   "execution_count": 3
  },
  {
   "metadata": {
    "ExecuteTime": {
     "end_time": "2025-06-15T19:25:02.805319Z",
     "start_time": "2025-06-15T19:24:53.278067Z"
    }
   },
   "cell_type": "code",
   "source": [
    "# Read excel file\n",
    "file_path = '/Users/jahdovanterpool/Downloads/personal_transactions.xlsx'\n",
    "try:\n",
    "    df = pd.read_excel(file_path,sheet_name='Personal_Transactions')\n",
    "    print(\"Excel file loaded successfully!\")\n",
    "except FileNotFoundError:\n",
    "    print(\"Error file not found!\")\n",
    "    exit()"
   ],
   "id": "b819b9eb643d5a35",
   "outputs": [
    {
     "name": "stdout",
     "output_type": "stream",
     "text": [
      "Excel file loaded successfully!\n"
     ]
    }
   ],
   "execution_count": 5
  },
  {
   "metadata": {
    "ExecuteTime": {
     "end_time": "2025-06-15T19:28:43.972023Z",
     "start_time": "2025-06-15T19:28:43.957107Z"
    }
   },
   "cell_type": "code",
   "source": [
    "# Create a 'Month' column to group our data formatted as YYYY-MM\n",
    "df['Month'] = df['Date'].dt.to_period('M')"
   ],
   "id": "d99553b6901d052d",
   "outputs": [],
   "execution_count": 8
  },
  {
   "metadata": {
    "ExecuteTime": {
     "end_time": "2025-06-15T19:41:49.929423Z",
     "start_time": "2025-06-15T19:41:49.926213Z"
    }
   },
   "cell_type": "code",
   "source": [
    "# Remove white spaces\n",
    "df.columns = df.columns.str.strip()"
   ],
   "id": "37922d26af143548",
   "outputs": [],
   "execution_count": 21
  },
  {
   "metadata": {
    "ExecuteTime": {
     "end_time": "2025-06-15T19:41:52.617562Z",
     "start_time": "2025-06-15T19:41:52.559331Z"
    }
   },
   "cell_type": "code",
   "source": [
    "# Calculate the monthly summary\n",
    "\n",
    "monthly_summary = df.groupby(['Month','Type'])['Amount'].sum()\n",
    "\n",
    "monthly_summary"
   ],
   "id": "86b734bc1b67b8b9",
   "outputs": [
    {
     "data": {
      "text/plain": [
       "Month    Type   \n",
       "2018-01  Expense     2931.45\n",
       "         Income      7162.89\n",
       "2018-02  Expense     3165.05\n",
       "         Income      5220.75\n",
       "2018-03  Expense     3500.16\n",
       "         Income      7321.50\n",
       "2018-04  Expense     6029.54\n",
       "         Income      7166.88\n",
       "2018-05  Expense    11392.03\n",
       "         Income      5091.55\n",
       "2018-06  Expense     3665.88\n",
       "         Income      6017.19\n",
       "2018-07  Expense     2968.98\n",
       "         Income      4666.34\n",
       "2018-08  Expense     2396.18\n",
       "         Income      7379.15\n",
       "2018-09  Expense     3286.99\n",
       "         Income      5234.71\n",
       "2018-10  Expense     2848.35\n",
       "         Income      5022.23\n",
       "2018-11  Expense     2963.65\n",
       "         Income      6018.96\n",
       "2018-12  Expense     3427.99\n",
       "         Income      5635.10\n",
       "2019-01  Expense     5187.31\n",
       "         Income      4769.44\n",
       "2019-02  Expense     3163.40\n",
       "         Income      4500.01\n",
       "2019-03  Expense     3241.51\n",
       "         Income      7792.25\n",
       "2019-04  Expense     4829.55\n",
       "         Income      5931.89\n",
       "2019-05  Expense     4673.51\n",
       "         Income      5341.01\n",
       "2019-06  Expense    11999.60\n",
       "         Income      4514.35\n",
       "2019-07  Expense     4148.06\n",
       "         Income      5642.40\n",
       "2019-08  Expense     4266.17\n",
       "         Income      7304.10\n",
       "2019-09  Expense     5998.42\n",
       "         Income      6537.06\n",
       "Name: Amount, dtype: float64"
      ]
     },
     "execution_count": 22,
     "metadata": {},
     "output_type": "execute_result"
    }
   ],
   "execution_count": 22
  },
  {
   "metadata": {},
   "cell_type": "code",
   "outputs": [],
   "execution_count": null,
   "source": "",
   "id": "38f16aca859031bd"
  }
 ],
 "metadata": {
  "kernelspec": {
   "display_name": "Python 3",
   "language": "python",
   "name": "python3"
  },
  "language_info": {
   "codemirror_mode": {
    "name": "ipython",
    "version": 2
   },
   "file_extension": ".py",
   "mimetype": "text/x-python",
   "name": "python",
   "nbconvert_exporter": "python",
   "pygments_lexer": "ipython2",
   "version": "2.7.6"
  }
 },
 "nbformat": 4,
 "nbformat_minor": 5
}
