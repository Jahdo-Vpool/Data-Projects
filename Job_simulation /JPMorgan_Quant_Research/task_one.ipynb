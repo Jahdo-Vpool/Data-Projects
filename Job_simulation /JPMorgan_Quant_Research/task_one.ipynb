{
 "cells": [
  {
   "cell_type": "code",
   "id": "initial_id",
   "metadata": {
    "collapsed": true
   },
   "source": [
    "# Import necessary libraries\n",
    "import pandas as pd\n",
    "import matplotlib.pyplot as plt\n",
    "import seaborn as sns"
   ],
   "outputs": [],
   "execution_count": null
  },
  {
   "metadata": {},
   "cell_type": "code",
   "source": [
    "# Load the CSV\n",
    "file_path = '/Users/jahdovanterpool/Downloads/Projects/Job simulations /Nat_Gas.csv'\n",
    "df = pd.read_csv(file_path)"
   ],
   "id": "393024676e5fde64",
   "outputs": [],
   "execution_count": null
  },
  {
   "metadata": {},
   "cell_type": "code",
   "source": [
    "# Preview data\n",
    "print(df.head())\n",
    "print('\\n','='*150,'\\n')\n",
    "\n",
    "print(df.info())\n",
    "print('\\n','='*150)\n",
    "\n",
    "print(df.describe())"
   ],
   "id": "aacbec1bc4d78102",
   "outputs": [],
   "execution_count": null
  },
  {
   "metadata": {},
   "cell_type": "code",
   "source": [
    "# Convert dates from object to datetime\n",
    "df['Dates'] = pd.to_datetime(df['Dates'], format = '%m/%d/%y')"
   ],
   "id": "8921bb8e91ec6ad5",
   "outputs": [],
   "execution_count": null
  },
  {
   "metadata": {},
   "cell_type": "code",
   "source": "df.info()",
   "id": "9157ea0872a7781f",
   "outputs": [],
   "execution_count": null
  },
  {
   "metadata": {},
   "cell_type": "code",
   "source": [
    "# Sort by date\n",
    "df_sorted = df.sort_values('Dates')\n",
    "df_sorted"
   ],
   "id": "af416a3bcc89cb07",
   "outputs": [],
   "execution_count": null
  },
  {
   "metadata": {},
   "cell_type": "code",
   "source": [
    "# Plot the data\n",
    "plt.figure(figsize=(8,6))\n",
    "sns.lineplot(data=df_sorted, x = 'Dates', y = 'Prices', marker='o')\n",
    "plt.title('Natural Gas Prices over time')\n",
    "plt.xlabel('Dates')\n",
    "plt.ylabel('Prices')\n",
    "plt.grid(True)\n",
    "plt.show()"
   ],
   "id": "e96af51a47083c46",
   "outputs": [],
   "execution_count": null
  },
  {
   "metadata": {},
   "cell_type": "code",
   "source": [
    "# Extract the month from each column\n",
    "df['Month_num'] = df['Dates'].dt.month\n",
    "df['Month_str'] = df['Dates'].dt.strftime('%b')\n",
    "\n",
    "# Calculate the average for each month\n",
    "monthly_avg = df.groupby(['Month_num','Month_str'])['Prices'].mean().reset_index()\n",
    "\n",
    "# Sort by month value\n",
    "monthly_avg = monthly_avg.sort_values('Month_num')\n",
    "monthly_avg"
   ],
   "id": "ec51a9cfd5262de9",
   "outputs": [],
   "execution_count": null
  },
  {
   "metadata": {},
   "cell_type": "code",
   "source": [
    "# Plot the monthly averages\n",
    "plt.figure(figsize=(8,6))\n",
    "sns.lineplot(data=monthly_avg, x = 'Month_str', y = 'Prices', marker='o')\n",
    "plt.title('Natural Gas Prices By Month')\n",
    "plt.xlabel('Month')\n",
    "plt.ylabel('Prices')\n",
    "plt.grid(True)\n",
    "plt.show()"
   ],
   "id": "242f8f2391934cee",
   "outputs": [],
   "execution_count": null
  },
  {
   "metadata": {},
   "cell_type": "code",
   "source": [
    "# Create a dictionary with the average price per month\n",
    "monthly_avg_dict = df.groupby(['Month_num'])['Prices'].mean().to_dict()\n",
    "monthly_avg_dict"
   ],
   "id": "68d5cbe552271063",
   "outputs": [],
   "execution_count": null
  },
  {
   "metadata": {},
   "cell_type": "code",
   "source": [
    "# Create a function to interpolate and extrapolate\n",
    "\n",
    "def get_price(input_date):\n",
    "    \"\"\"\n",
    "    Returns estimated natural gas price for a given date.\n",
    "    If date is within known range: interpolation by search for the specific date.\n",
    "    If date goes beyond the range: extrapolate by using monthly averages.\n",
    "    \"\"\"\n",
    "\n",
    "    # Ensure input is in datetime format\n",
    "    input_date = pd.to_datetime(input_date)\n",
    "\n",
    "    # Set the range for interpolation\n",
    "    min_date = df_sorted['Dates'].min()\n",
    "    max_date = df_sorted['Dates'].max()\n",
    "\n",
    "    # Checks if data is within the range for interpolation or extrapolation\n",
    "    if min_date <= input_date <= max_date:\n",
    "        df_interp = df_sorted.set_index('Dates').asfreq('D') # Gives a daily frequency even if the date does not occur in the dataframe\n",
    "        df_interp['Prices'] = df_interp['Prices'].interpolate(method = 'linear')\n",
    "        return round(df_interp.loc[input_date]['Prices'], 2)\n",
    "\n",
    "    elif max_date < input_date <= max_date + pd.DateOffset(months=12):\n",
    "        month = input_date.month\n",
    "        estimated_price = monthly_avg_dict.get(month, None)\n",
    "        return round(estimated_price, 2) if estimated_price else None\n",
    "\n",
    "    else:\n",
    "        return \"Date is out of range! The function can only interpolate or extrapolate up to one year from the max day in data frame\"\n",
    "\n",
    "    return None\n"
   ],
   "id": "a3f54d34b18fc0e5",
   "outputs": [],
   "execution_count": null
  },
  {
   "metadata": {},
   "cell_type": "code",
   "source": [
    "# Testing it out\n",
    "\n",
    "# Allow users to input the desired dates\n",
    "test_date_interp = input('Enter the date in format dd/mm/yyyy: ')\n",
    "test_date_extrap = input('Enter the date in format dd/mm/yyyy: ')\n",
    "test_interp = get_price(test_date_interp)\n",
    "test_extrap = get_price(test_date_extrap)\n",
    "\n",
    "# Print results\n",
    "print(f' When we interpolate for the date: {test_date_interp} we get a price of: ${test_interp}')\n",
    "print(f' When we extrapolate for the date: {test_date_extrap} we get an estimated price of: ${test_extrap}')"
   ],
   "id": "d307bfbdbb479f42",
   "outputs": [],
   "execution_count": null
  },
  {
   "metadata": {},
   "cell_type": "code",
   "source": "df",
   "id": "8fca5bd60c7c11a2",
   "outputs": [],
   "execution_count": null
  },
  {
   "metadata": {},
   "cell_type": "code",
   "source": "",
   "id": "f590b8d10c560d4f",
   "outputs": [],
   "execution_count": null
  }
 ],
 "metadata": {
  "kernelspec": {
   "display_name": "Python 3",
   "language": "python",
   "name": "python3"
  },
  "language_info": {
   "codemirror_mode": {
    "name": "ipython",
    "version": 2
   },
   "file_extension": ".py",
   "mimetype": "text/x-python",
   "name": "python",
   "nbconvert_exporter": "python",
   "pygments_lexer": "ipython2",
   "version": "2.7.6"
  }
 },
 "nbformat": 4,
 "nbformat_minor": 5
}
