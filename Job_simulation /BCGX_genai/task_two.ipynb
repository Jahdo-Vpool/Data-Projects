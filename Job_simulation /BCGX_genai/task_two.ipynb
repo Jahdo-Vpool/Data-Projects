{
 "cells": [
  {
   "metadata": {},
   "cell_type": "markdown",
   "source": [
    "### Step 1: Preparation\n",
    "\n",
    "- Review the analyzed data: Quickly review the financial data you analyzed in Task 1 to refresh your memory on what information is available.\n",
    "- Set up your environment: Ensure Python and essential libraries (like pandas for data handling and Flask for a simple web application, if applicable) are installed."
   ],
   "id": "f926b05d59d405e8"
  },
  {
   "metadata": {
    "ExecuteTime": {
     "end_time": "2025-07-31T18:00:17.114279Z",
     "start_time": "2025-07-31T18:00:16.744725Z"
    }
   },
   "cell_type": "code",
   "source": [
    "import pandas as pd\n",
    "import flask as Flask"
   ],
   "id": "abd10c5ca0303b0d",
   "outputs": [],
   "execution_count": 1
  },
  {
   "metadata": {
    "ExecuteTime": {
     "end_time": "2025-07-31T18:00:17.220388Z",
     "start_time": "2025-07-31T18:00:17.218090Z"
    }
   },
   "cell_type": "code",
   "source": [
    "# Create a set of predefined rules for the chatbot.\n",
    "# Each rule corresponds to a financial metric (e.g., revenue, net income, assets).\n",
    "# For each rule, we define:\n",
    "#   - keywords: possible words/phrases a user might ask (to trigger this rule)\n",
    "#   - field: the corresponding column name in the dataset\n",
    "#   - response_template: how the chatbot should respond when this rule is matched\n",
    "rules = {\n",
    "    \"revenue\": {\n",
    "        \"keywords\": ['revenue', 'sales', 'top line'],   # User might ask about revenue in different ways\n",
    "        \"field\": 'Total Revenue (USD M)',               # Column in the dataset for revenue\n",
    "        \"response_template\": \"Total revenue in {year} was {value} million USD\",\n",
    "    },\n",
    "    \"net_income\": {\n",
    "        \"keywords\": ['net income', 'profit', 'earnings'],  # Different ways to ask about net income\n",
    "        \"field\": 'Net Income (USD M)',                     # Dataset column for net income\n",
    "        \"response_template\": \"Net income in {year} was {value} million USD\",\n",
    "    },\n",
    "    \"assets\": {\n",
    "        \"keywords\": ['assets', 'total assets'],            # Keywords for total assets\n",
    "        \"field\": 'Total Assets (USD M)',                   # Dataset column for total assets\n",
    "        \"response_template\": \"Total assets in {year} was {value} million USD\",\n",
    "    }\n",
    "}"
   ],
   "id": "27f27dcdcc709fcb",
   "outputs": [],
   "execution_count": 2
  },
  {
   "metadata": {
    "ExecuteTime": {
     "end_time": "2025-07-31T18:00:17.238736Z",
     "start_time": "2025-07-31T18:00:17.234106Z"
    }
   },
   "cell_type": "code",
   "source": [
    "# Load the dataset\n",
    "\n",
    "# Read the financial dataset (10-K annual reports) into a pandas DataFrame.\n",
    "# This dataset must contain at least: 'Year', 'Total Revenue (USD M)',\n",
    "# 'Net Income (USD M)', and 'Total Assets (USD M)' columns.\n",
    "df = pd.read_csv('/Users/jahdovanterpool/Downloads/BCGX 10-K Annual Reports.csv')\n",
    "\n",
    "# Define chatbot logic\n",
    "\n",
    "def get_response(question, year):\n",
    "    \"\"\"\n",
    "    Rule-based chatbot function that returns a financial response\n",
    "    based on a user question and requested year.\n",
    "\n",
    "    Parameters:\n",
    "    -----------\n",
    "    question : str\n",
    "        The user's question (e.g. \"What was the revenue in 2020?\")\n",
    "    year : int\n",
    "        The year the user is asking about (e.g. 2020)\n",
    "\n",
    "    Returns:\n",
    "    --------\n",
    "    str : Response string with the requested financial data or a fallback message.\n",
    "    \"\"\"\n",
    "\n",
    "    # Loop through all rules defined above\n",
    "    for rule_name, rule in rules.items():\n",
    "        # Loop through each keyword in the current rule\n",
    "        for keyword in rule['keywords']:\n",
    "            # Check if the keyword is found in the user's question (case-insensitive)\n",
    "            if keyword in question.lower():\n",
    "\n",
    "                # Extract data from the DataFrame:\n",
    "                # Filter rows where 'Year' matches the requested year,\n",
    "                # and select the column defined in the rule (e.g., 'Total Revenue (USD M)')\n",
    "                filtered = df.loc[df['Year'] == year, rule['field']]\n",
    "\n",
    "                # If no data is found for that year, return an error message\n",
    "                if filtered.empty:\n",
    "                    return f\"Sorry, but the year {year} was not found in the data!\"\n",
    "\n",
    "                # Extract the first (and only) value from the filtered result\n",
    "                value = filtered.values[0]\n",
    "\n",
    "                # Format and return the response string using the rule's template\n",
    "                return rule[\"response_template\"].format(year=year, value=value)\n",
    "\n",
    "    # If no keywords match any rule, return a fallback message\n",
    "    return \"Sorry, I didn't understand your question.\"\n"
   ],
   "id": "5b5d87f140a332a5",
   "outputs": [],
   "execution_count": 3
  },
  {
   "metadata": {
    "ExecuteTime": {
     "end_time": "2025-07-31T18:00:17.251662Z",
     "start_time": "2025-07-31T18:00:17.249110Z"
    }
   },
   "cell_type": "code",
   "source": [
    "# Example usage\n",
    "\n",
    "print(get_response(\"What was the revenue in 2020?\", 2023))\n",
    "print(get_response(\"How has net income changed over the last year?\", 2023))"
   ],
   "id": "c8c10c3644be14f4",
   "outputs": [
    {
     "name": "stdout",
     "output_type": "stream",
     "text": [
      "Total revenue in 2023 was 383285.0 million USD\n",
      "Net income in 2023 was 96995.0 million USD\n"
     ]
    }
   ],
   "execution_count": 4
  }
 ],
 "metadata": {
  "kernelspec": {
   "display_name": "Python 3",
   "language": "python",
   "name": "python3"
  },
  "language_info": {
   "codemirror_mode": {
    "name": "ipython",
    "version": 2
   },
   "file_extension": ".py",
   "mimetype": "text/x-python",
   "name": "python",
   "nbconvert_exporter": "python",
   "pygments_lexer": "ipython2",
   "version": "2.7.6"
  }
 },
 "nbformat": 4,
 "nbformat_minor": 5
}
