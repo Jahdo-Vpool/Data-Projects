{
 "cells": [
  {
   "metadata": {},
   "cell_type": "markdown",
   "source": [
    "# Task instructions\n",
    "\n",
    "Manually extract key financial data for the last three fiscal years from the 10-K filings of Microsoft, Tesla, and Apple. Following the data collection, use Python to analyze this data, focusing on trends and insights that could inform the development of an AI-powered financial chatbot."
   ],
   "id": "b59515814b826bda"
  },
  {
   "metadata": {},
   "cell_type": "markdown",
   "source": [
    "### Step 1: Data extraction\n",
    "\n",
    "- Navigate to the SEC's EDGAR database:\n",
    "\n",
    "    - Microsoft\n",
    "    - Tesla\n",
    "    - Apple\n",
    "\n",
    "- Manual extraction:\n",
    "\n",
    "    - For each company, find the 10-K filings for the last three fiscal years.\n",
    "    - Extract the following financial figures: Total Revenue, Net Income, Total Assets, Total Liabilities, and Cash Flow from Operating Activities.\n",
    "\n",
    "- Organize Your Data:\n",
    "\n",
    "    - Compile the extracted data into an Excel spreadsheet for easy reference during your Python analysis."
   ],
   "id": "617c8b695ee66d49"
  },
  {
   "metadata": {},
   "cell_type": "markdown",
   "source": "### Step 2: Analysis",
   "id": "cce3d7f08ce7e406"
  },
  {
   "metadata": {
    "ExecuteTime": {
     "end_time": "2025-07-31T17:40:23.455053Z",
     "start_time": "2025-07-31T17:40:23.452200Z"
    }
   },
   "cell_type": "code",
   "source": [
    "# Import libraries\n",
    "\n",
    "import pandas as pd"
   ],
   "id": "b6ee767d233621b",
   "outputs": [],
   "execution_count": 8
  },
  {
   "metadata": {
    "ExecuteTime": {
     "end_time": "2025-07-31T17:40:23.474353Z",
     "start_time": "2025-07-31T17:40:23.466691Z"
    }
   },
   "cell_type": "code",
   "source": [
    "# Load CSV file\n",
    "file_path = '/Users/jahdovanterpool/Downloads/BCGX 10-K Annual Reports.csv'\n",
    "df = pd.read_csv(file_path,index_col=False)\n",
    "\n",
    "# Remove unwanted index column\n",
    "#df.drop(df.columns[0],axis=1,inplace=True)\n",
    "df.sample()"
   ],
   "id": "4c0876f50d26c0d9",
   "outputs": [
    {
     "data": {
      "text/plain": [
       "  Company  Year  Total Revenue (USD M)  Net Income (USD M)  \\\n",
       "8   Tesla  2023                  96773               15002   \n",
       "\n",
       "   Total Assets (USD M)  Total Liabilities (USD M)  \\\n",
       "8                106838                      41507   \n",
       "\n",
       "   Cash Flow from Operating Activities  Revenue Growth (%)  \\\n",
       "8                                13257           18.795267   \n",
       "\n",
       "   Net Income Growth (%)  Profit Margin (%)  Debt_to_Assets (%)  \n",
       "8              19.480726          15.502258           38.850409  "
      ],
      "text/html": [
       "<div>\n",
       "<style scoped>\n",
       "    .dataframe tbody tr th:only-of-type {\n",
       "        vertical-align: middle;\n",
       "    }\n",
       "\n",
       "    .dataframe tbody tr th {\n",
       "        vertical-align: top;\n",
       "    }\n",
       "\n",
       "    .dataframe thead th {\n",
       "        text-align: right;\n",
       "    }\n",
       "</style>\n",
       "<table border=\"1\" class=\"dataframe\">\n",
       "  <thead>\n",
       "    <tr style=\"text-align: right;\">\n",
       "      <th></th>\n",
       "      <th>Company</th>\n",
       "      <th>Year</th>\n",
       "      <th>Total Revenue (USD M)</th>\n",
       "      <th>Net Income (USD M)</th>\n",
       "      <th>Total Assets (USD M)</th>\n",
       "      <th>Total Liabilities (USD M)</th>\n",
       "      <th>Cash Flow from Operating Activities</th>\n",
       "      <th>Revenue Growth (%)</th>\n",
       "      <th>Net Income Growth (%)</th>\n",
       "      <th>Profit Margin (%)</th>\n",
       "      <th>Debt_to_Assets (%)</th>\n",
       "    </tr>\n",
       "  </thead>\n",
       "  <tbody>\n",
       "    <tr>\n",
       "      <th>8</th>\n",
       "      <td>Tesla</td>\n",
       "      <td>2023</td>\n",
       "      <td>96773</td>\n",
       "      <td>15002</td>\n",
       "      <td>106838</td>\n",
       "      <td>41507</td>\n",
       "      <td>13257</td>\n",
       "      <td>18.795267</td>\n",
       "      <td>19.480726</td>\n",
       "      <td>15.502258</td>\n",
       "      <td>38.850409</td>\n",
       "    </tr>\n",
       "  </tbody>\n",
       "</table>\n",
       "</div>"
      ]
     },
     "execution_count": 9,
     "metadata": {},
     "output_type": "execute_result"
    }
   ],
   "execution_count": 9
  },
  {
   "metadata": {
    "ExecuteTime": {
     "end_time": "2025-07-31T17:40:23.508186Z",
     "start_time": "2025-07-31T17:40:23.503566Z"
    }
   },
   "cell_type": "code",
   "source": [
    "# Analyze trend\n",
    "\n",
    "df.info()"
   ],
   "id": "4a68423cb1fdf952",
   "outputs": [
    {
     "name": "stdout",
     "output_type": "stream",
     "text": [
      "<class 'pandas.core.frame.DataFrame'>\n",
      "RangeIndex: 9 entries, 0 to 8\n",
      "Data columns (total 11 columns):\n",
      " #   Column                               Non-Null Count  Dtype  \n",
      "---  ------                               --------------  -----  \n",
      " 0   Company                              9 non-null      object \n",
      " 1   Year                                 9 non-null      int64  \n",
      " 2   Total Revenue (USD M)                9 non-null      int64  \n",
      " 3   Net Income (USD M)                   9 non-null      int64  \n",
      " 4   Total Assets (USD M)                 9 non-null      int64  \n",
      " 5   Total Liabilities (USD M)            9 non-null      int64  \n",
      " 6   Cash Flow from Operating Activities  9 non-null      int64  \n",
      " 7   Revenue Growth (%)                   9 non-null      float64\n",
      " 8   Net Income Growth (%)                9 non-null      float64\n",
      " 9   Profit Margin (%)                    9 non-null      float64\n",
      " 10  Debt_to_Assets (%)                   9 non-null      float64\n",
      "dtypes: float64(4), int64(6), object(1)\n",
      "memory usage: 924.0+ bytes\n"
     ]
    }
   ],
   "execution_count": 10
  },
  {
   "metadata": {
    "ExecuteTime": {
     "end_time": "2025-07-31T17:40:23.562892Z",
     "start_time": "2025-07-31T17:40:23.557256Z"
    }
   },
   "cell_type": "code",
   "source": [
    "# Remove '$' and ',' from values in order to convert them to a numerical values instead of a string\n",
    "\n",
    "# list the columns\n",
    "df.columns\n",
    "\n",
    "# Create a list of columns i want to clean\n",
    "cols_to_clean = ['Total Revenue (USD M)', 'Net Income (USD M)',\n",
    "       'Total Assets (USD M)', 'Total Liabilities (USD M)',\n",
    "       'Cash Flow from Operating Activities']\n",
    "\n",
    "# Loop through each column and remove unwanted characters and convert elements to float\n",
    "for col in cols_to_clean:\n",
    "    df[col] = df[col].replace(r'[\\$,]','',regex=True).astype(float)\n",
    "\n",
    "df.sample()"
   ],
   "id": "c0ced504e18384fb",
   "outputs": [
    {
     "data": {
      "text/plain": [
       "  Company  Year  Total Revenue (USD M)  Net Income (USD M)  \\\n",
       "1   Apple  2022               394328.0             99803.0   \n",
       "\n",
       "   Total Assets (USD M)  Total Liabilities (USD M)  \\\n",
       "1              352755.0                   302083.0   \n",
       "\n",
       "   Cash Flow from Operating Activities  Revenue Growth (%)  \\\n",
       "1                             122151.0            7.793788   \n",
       "\n",
       "   Net Income Growth (%)  Profit Margin (%)  Debt_to_Assets (%)  \n",
       "1               5.410858          25.309641           85.635356  "
      ],
      "text/html": [
       "<div>\n",
       "<style scoped>\n",
       "    .dataframe tbody tr th:only-of-type {\n",
       "        vertical-align: middle;\n",
       "    }\n",
       "\n",
       "    .dataframe tbody tr th {\n",
       "        vertical-align: top;\n",
       "    }\n",
       "\n",
       "    .dataframe thead th {\n",
       "        text-align: right;\n",
       "    }\n",
       "</style>\n",
       "<table border=\"1\" class=\"dataframe\">\n",
       "  <thead>\n",
       "    <tr style=\"text-align: right;\">\n",
       "      <th></th>\n",
       "      <th>Company</th>\n",
       "      <th>Year</th>\n",
       "      <th>Total Revenue (USD M)</th>\n",
       "      <th>Net Income (USD M)</th>\n",
       "      <th>Total Assets (USD M)</th>\n",
       "      <th>Total Liabilities (USD M)</th>\n",
       "      <th>Cash Flow from Operating Activities</th>\n",
       "      <th>Revenue Growth (%)</th>\n",
       "      <th>Net Income Growth (%)</th>\n",
       "      <th>Profit Margin (%)</th>\n",
       "      <th>Debt_to_Assets (%)</th>\n",
       "    </tr>\n",
       "  </thead>\n",
       "  <tbody>\n",
       "    <tr>\n",
       "      <th>1</th>\n",
       "      <td>Apple</td>\n",
       "      <td>2022</td>\n",
       "      <td>394328.0</td>\n",
       "      <td>99803.0</td>\n",
       "      <td>352755.0</td>\n",
       "      <td>302083.0</td>\n",
       "      <td>122151.0</td>\n",
       "      <td>7.793788</td>\n",
       "      <td>5.410858</td>\n",
       "      <td>25.309641</td>\n",
       "      <td>85.635356</td>\n",
       "    </tr>\n",
       "  </tbody>\n",
       "</table>\n",
       "</div>"
      ]
     },
     "execution_count": 11,
     "metadata": {},
     "output_type": "execute_result"
    }
   ],
   "execution_count": 11
  },
  {
   "metadata": {
    "ExecuteTime": {
     "end_time": "2025-07-31T17:40:23.613443Z",
     "start_time": "2025-07-31T17:40:23.605985Z"
    }
   },
   "cell_type": "code",
   "source": [
    "# Calculate the year-over-year changes\n",
    "\"\"\"\n",
    "YoY Change = ((Current year value - Previous year value) / Previous year value) * 100\n",
    "\"\"\"\n",
    "\n",
    "df ['Revenue Growth (%)'] = df.groupby(['Company'])['Total Revenue (USD M)'].pct_change() * 100\n",
    "df['Net Income Growth (%)'] = df.groupby(['Company'])['Net Income (USD M)'].pct_change() * 100\n",
    "\n",
    "# Calculate the profit Margin (%)\n",
    "\n",
    "df['Profit Margin (%)'] = (df['Net Income (USD M)'] / df['Total Revenue (USD M)']) * 100\n",
    "\n",
    "# Calculate the debt to assets (%)\n",
    "\n",
    "df['Debt_to_Assets (%)'] = (df['Total Liabilities (USD M)'] / df['Total Assets (USD M)']) * 100\n",
    "# Fill NA values with a 0\n",
    "df.fillna(0, inplace=True)\n",
    "df.head()"
   ],
   "id": "4b2d7a6a70d26bb1",
   "outputs": [
    {
     "data": {
      "text/plain": [
       "     Company  Year  Total Revenue (USD M)  Net Income (USD M)  \\\n",
       "0      Apple  2021               365817.0             94680.0   \n",
       "1      Apple  2022               394328.0             99803.0   \n",
       "2      Apple  2023               383285.0             96995.0   \n",
       "3  Microsoft  2021               168088.0             61271.0   \n",
       "4  Microsoft  2022               198270.0             72738.0   \n",
       "\n",
       "   Total Assets (USD M)  Total Liabilities (USD M)  \\\n",
       "0              337158.0                   267980.0   \n",
       "1              352755.0                   302083.0   \n",
       "2              352583.0                   290437.0   \n",
       "3              333779.0                   191791.0   \n",
       "4              364840.0                   198298.0   \n",
       "\n",
       "   Cash Flow from Operating Activities  Revenue Growth (%)  \\\n",
       "0                             104038.0            0.000000   \n",
       "1                             122151.0            7.793788   \n",
       "2                             110543.0           -2.800461   \n",
       "3                              76740.0            0.000000   \n",
       "4                              89035.0           17.956071   \n",
       "\n",
       "   Net Income Growth (%)  Profit Margin (%)  Debt_to_Assets (%)  \n",
       "0               0.000000          25.881793           79.482023  \n",
       "1               5.410858          25.309641           85.635356  \n",
       "2              -2.813543          25.306234           82.374079  \n",
       "3               0.000000          36.451740           57.460475  \n",
       "4              18.715216          36.686337           54.352045  "
      ],
      "text/html": [
       "<div>\n",
       "<style scoped>\n",
       "    .dataframe tbody tr th:only-of-type {\n",
       "        vertical-align: middle;\n",
       "    }\n",
       "\n",
       "    .dataframe tbody tr th {\n",
       "        vertical-align: top;\n",
       "    }\n",
       "\n",
       "    .dataframe thead th {\n",
       "        text-align: right;\n",
       "    }\n",
       "</style>\n",
       "<table border=\"1\" class=\"dataframe\">\n",
       "  <thead>\n",
       "    <tr style=\"text-align: right;\">\n",
       "      <th></th>\n",
       "      <th>Company</th>\n",
       "      <th>Year</th>\n",
       "      <th>Total Revenue (USD M)</th>\n",
       "      <th>Net Income (USD M)</th>\n",
       "      <th>Total Assets (USD M)</th>\n",
       "      <th>Total Liabilities (USD M)</th>\n",
       "      <th>Cash Flow from Operating Activities</th>\n",
       "      <th>Revenue Growth (%)</th>\n",
       "      <th>Net Income Growth (%)</th>\n",
       "      <th>Profit Margin (%)</th>\n",
       "      <th>Debt_to_Assets (%)</th>\n",
       "    </tr>\n",
       "  </thead>\n",
       "  <tbody>\n",
       "    <tr>\n",
       "      <th>0</th>\n",
       "      <td>Apple</td>\n",
       "      <td>2021</td>\n",
       "      <td>365817.0</td>\n",
       "      <td>94680.0</td>\n",
       "      <td>337158.0</td>\n",
       "      <td>267980.0</td>\n",
       "      <td>104038.0</td>\n",
       "      <td>0.000000</td>\n",
       "      <td>0.000000</td>\n",
       "      <td>25.881793</td>\n",
       "      <td>79.482023</td>\n",
       "    </tr>\n",
       "    <tr>\n",
       "      <th>1</th>\n",
       "      <td>Apple</td>\n",
       "      <td>2022</td>\n",
       "      <td>394328.0</td>\n",
       "      <td>99803.0</td>\n",
       "      <td>352755.0</td>\n",
       "      <td>302083.0</td>\n",
       "      <td>122151.0</td>\n",
       "      <td>7.793788</td>\n",
       "      <td>5.410858</td>\n",
       "      <td>25.309641</td>\n",
       "      <td>85.635356</td>\n",
       "    </tr>\n",
       "    <tr>\n",
       "      <th>2</th>\n",
       "      <td>Apple</td>\n",
       "      <td>2023</td>\n",
       "      <td>383285.0</td>\n",
       "      <td>96995.0</td>\n",
       "      <td>352583.0</td>\n",
       "      <td>290437.0</td>\n",
       "      <td>110543.0</td>\n",
       "      <td>-2.800461</td>\n",
       "      <td>-2.813543</td>\n",
       "      <td>25.306234</td>\n",
       "      <td>82.374079</td>\n",
       "    </tr>\n",
       "    <tr>\n",
       "      <th>3</th>\n",
       "      <td>Microsoft</td>\n",
       "      <td>2021</td>\n",
       "      <td>168088.0</td>\n",
       "      <td>61271.0</td>\n",
       "      <td>333779.0</td>\n",
       "      <td>191791.0</td>\n",
       "      <td>76740.0</td>\n",
       "      <td>0.000000</td>\n",
       "      <td>0.000000</td>\n",
       "      <td>36.451740</td>\n",
       "      <td>57.460475</td>\n",
       "    </tr>\n",
       "    <tr>\n",
       "      <th>4</th>\n",
       "      <td>Microsoft</td>\n",
       "      <td>2022</td>\n",
       "      <td>198270.0</td>\n",
       "      <td>72738.0</td>\n",
       "      <td>364840.0</td>\n",
       "      <td>198298.0</td>\n",
       "      <td>89035.0</td>\n",
       "      <td>17.956071</td>\n",
       "      <td>18.715216</td>\n",
       "      <td>36.686337</td>\n",
       "      <td>54.352045</td>\n",
       "    </tr>\n",
       "  </tbody>\n",
       "</table>\n",
       "</div>"
      ]
     },
     "execution_count": 12,
     "metadata": {},
     "output_type": "execute_result"
    }
   ],
   "execution_count": 12
  },
  {
   "metadata": {
    "ExecuteTime": {
     "end_time": "2025-07-31T17:40:23.705102Z",
     "start_time": "2025-07-31T17:40:23.653149Z"
    }
   },
   "cell_type": "code",
   "source": [
    "# Plot the profit margins\n",
    "\n",
    "pivot_margin = df.pivot(index='Year', columns='Company' , values='Profit Margin (%)')\n",
    "pivot_margin.plot(kind='bar', figsize=(10,8))"
   ],
   "id": "b76a1eff3ea1b78b",
   "outputs": [
    {
     "data": {
      "text/plain": [
       "<Axes: xlabel='Year'>"
      ]
     },
     "execution_count": 13,
     "metadata": {},
     "output_type": "execute_result"
    },
    {
     "data": {
      "text/plain": [
       "<Figure size 1000x800 with 1 Axes>"
      ],
      "image/png": "[encoded data removed]"
     },
     "metadata": {},
     "output_type": "display_data"
    }
   ],
   "execution_count": 13
  },
  {
   "metadata": {
    "ExecuteTime": {
     "end_time": "2025-07-31T17:40:23.794632Z",
     "start_time": "2025-07-31T17:40:23.791842Z"
    }
   },
   "cell_type": "code",
   "source": [
    "\"\"\"\n",
    "Observations from bar graph:\n",
    "\n",
    "Microsoft is the clear leader in profitability.Across all three years, Microsoft maintains the highest profit margin (~34–37%), indicating it converts a larger portion of its revenue into profit compared to Apple and Tesla. Its margins are also stable, which signals consistency.\n",
    "\n",
    "Apple has solid but lower margins. Apple consistently shows margins around 25–26%, slightly below Microsoft but still strong.The stability suggests Apple runs a mature, efficient business model.\n",
    "\n",
    "Tesla lags behind but shows improvement. Tesla’s profit margin starts much lower (~10% in 2021) but grows to around 15% by 2022–2023.\n",
    "\n",
    "\"\"\""
   ],
   "id": "5be13af6ecbb6789",
   "outputs": [
    {
     "data": {
      "text/plain": [
       "'\\nObservations from bar graph:\\n\\nMicrosoft is the clear leader in profitability.Across all three years, Microsoft maintains the highest profit margin (~34–37%), indicating it converts a larger portion of its revenue into profit compared to Apple and Tesla. Its margins are also stable, which signals consistency.\\n\\nApple has solid but lower margins. Apple consistently shows margins around 25–26%, slightly below Microsoft but still strong.The stability suggests Apple runs a mature, efficient business model.\\n\\nTesla lags behind but shows improvement. Tesla’s profit margin starts much lower (~10% in 2021) but grows to around 15% by 2022–2023.\\n\\n'"
      ]
     },
     "execution_count": 14,
     "metadata": {},
     "output_type": "execute_result"
    }
   ],
   "execution_count": 14
  },
  {
   "metadata": {
    "ExecuteTime": {
     "end_time": "2025-07-31T17:40:23.816876Z",
     "start_time": "2025-07-31T17:40:23.811999Z"
    }
   },
   "cell_type": "code",
   "source": [
    "# Summarize findings for each company\n",
    "\n",
    "summary = df.groupby('Company').agg({\n",
    "    'Revenue Growth (%)': 'mean',\n",
    "    'Net Income Growth (%)': 'mean'\n",
    "}).reset_index()\n",
    "\n",
    "summary"
   ],
   "id": "b32e3a9b9eee3046",
   "outputs": [
    {
     "data": {
      "text/plain": [
       "     Company  Revenue Growth (%)  Net Income Growth (%)\n",
       "0      Apple            1.664442               0.865772\n",
       "1  Microsoft            8.279367               6.065639\n",
       "2      Tesla           23.382306              48.995236"
      ],
      "text/html": [
       "<div>\n",
       "<style scoped>\n",
       "    .dataframe tbody tr th:only-of-type {\n",
       "        vertical-align: middle;\n",
       "    }\n",
       "\n",
       "    .dataframe tbody tr th {\n",
       "        vertical-align: top;\n",
       "    }\n",
       "\n",
       "    .dataframe thead th {\n",
       "        text-align: right;\n",
       "    }\n",
       "</style>\n",
       "<table border=\"1\" class=\"dataframe\">\n",
       "  <thead>\n",
       "    <tr style=\"text-align: right;\">\n",
       "      <th></th>\n",
       "      <th>Company</th>\n",
       "      <th>Revenue Growth (%)</th>\n",
       "      <th>Net Income Growth (%)</th>\n",
       "    </tr>\n",
       "  </thead>\n",
       "  <tbody>\n",
       "    <tr>\n",
       "      <th>0</th>\n",
       "      <td>Apple</td>\n",
       "      <td>1.664442</td>\n",
       "      <td>0.865772</td>\n",
       "    </tr>\n",
       "    <tr>\n",
       "      <th>1</th>\n",
       "      <td>Microsoft</td>\n",
       "      <td>8.279367</td>\n",
       "      <td>6.065639</td>\n",
       "    </tr>\n",
       "    <tr>\n",
       "      <th>2</th>\n",
       "      <td>Tesla</td>\n",
       "      <td>23.382306</td>\n",
       "      <td>48.995236</td>\n",
       "    </tr>\n",
       "  </tbody>\n",
       "</table>\n",
       "</div>"
      ]
     },
     "execution_count": 15,
     "metadata": {},
     "output_type": "execute_result"
    }
   ],
   "execution_count": 15
  },
  {
   "metadata": {
    "ExecuteTime": {
     "end_time": "2025-07-31T17:40:23.851703Z",
     "start_time": "2025-07-31T17:40:23.849068Z"
    }
   },
   "cell_type": "code",
   "source": [
    "\"\"\"\n",
    "Observations from the summary:\n",
    "\n",
    "Apple is profitable but the growth is flat. This flat growth might be a result of it already being a mature company\n",
    "\n",
    "Microsoft seems to show healthy growth\n",
    "\n",
    "Tesla shows explosive growth but their earning seem to jump around alot (49%) compared to a company like apple (0.87%)\n",
    "\n",
    "\"\"\""
   ],
   "id": "8b6285cc4eeda886",
   "outputs": [
    {
     "data": {
      "text/plain": [
       "'\\nObservations from the summary:\\n\\nApple is profitable but the growth is flat. This flat growth might be a result of it already being a mature company\\n\\nMicrosoft seems to show healthy growth\\n\\nTesla shows explosive growth but their earning seem to jump around alot (49%) compared to a company like apple (0.87%)\\n\\n'"
      ]
     },
     "execution_count": 16,
     "metadata": {},
     "output_type": "execute_result"
    }
   ],
   "execution_count": 16
  },
  {
   "metadata": {
    "ExecuteTime": {
     "end_time": "2025-07-31T17:40:23.879513Z",
     "start_time": "2025-07-31T17:40:23.876568Z"
    }
   },
   "cell_type": "code",
   "source": "df.to_csv('/Users/jahdovanterpool/Downloads/BCGX 10-K Annual Reports.csv', index=False)",
   "id": "bf9dd9e2b3388535",
   "outputs": [],
   "execution_count": 17
  },
  {
   "metadata": {
    "ExecuteTime": {
     "end_time": "2025-07-31T17:40:23.900386Z",
     "start_time": "2025-07-31T17:40:23.898857Z"
    }
   },
   "cell_type": "code",
   "source": "",
   "id": "c4626192ed907cdd",
   "outputs": [],
   "execution_count": null
  }
 ],
 "metadata": {
  "kernelspec": {
   "display_name": "Python 3",
   "language": "python",
   "name": "python3"
  },
  "language_info": {
   "codemirror_mode": {
    "name": "ipython",
    "version": 2
   },
   "file_extension": ".py",
   "mimetype": "text/x-python",
   "name": "python",
   "nbconvert_exporter": "python",
   "pygments_lexer": "ipython2",
   "version": "2.7.6"
  }
 },
 "nbformat": 4,
 "nbformat_minor": 5
}
