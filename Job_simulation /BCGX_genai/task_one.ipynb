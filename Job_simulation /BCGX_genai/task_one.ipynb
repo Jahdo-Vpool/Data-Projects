{
 "cells": [
  {
   "metadata": {},
   "cell_type": "markdown",
   "source": [
    "# Task instructions\n",
    "\n",
    "Manually extract key financial data for the last three fiscal years from the 10-K filings of Microsoft, Tesla, and Apple. Following the data collection, use Python to analyze this data, focusing on trends and insights that could inform the development of an AI-powered financial chatbot."
   ],
   "id": "b59515814b826bda"
  },
  {
   "metadata": {},
   "cell_type": "markdown",
   "source": [
    "### Step 1: Data extraction\n",
    "\n",
    "- Navigate to the SEC's EDGAR database:\n",
    "\n",
    "    - Microsoft\n",
    "    - Tesla\n",
    "    - Apple\n",
    "\n",
    "- Manual extraction:\n",
    "\n",
    "    - For each company, find the 10-K filings for the last three fiscal years.\n",
    "    - Extract the following financial figures: Total Revenue, Net Income, Total Assets, Total Liabilities, and Cash Flow from Operating Activities.\n",
    "\n",
    "- Organize Your Data:\n",
    "\n",
    "    - Compile the extracted data into an Excel spreadsheet for easy reference during your Python analysis."
   ],
   "id": "617c8b695ee66d49"
  },
  {
   "metadata": {},
   "cell_type": "code",
   "outputs": [],
   "source": "",
   "id": "c8990937690c2d23",
   "execution_count": null
  }
 ],
 "metadata": {
  "kernelspec": {
   "display_name": "Python 3",
   "language": "python",
   "name": "python3"
  },
  "language_info": {
   "codemirror_mode": {
    "name": "ipython",
    "version": 2
   },
   "file_extension": ".py",
   "mimetype": "text/x-python",
   "name": "python",
   "nbconvert_exporter": "python",
   "pygments_lexer": "ipython2",
   "version": "2.7.6"
  }
 },
 "nbformat": 4,
 "nbformat_minor": 5
}
