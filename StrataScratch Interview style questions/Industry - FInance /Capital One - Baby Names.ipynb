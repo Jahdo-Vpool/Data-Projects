{
 "cells": [
  {
   "metadata": {},
   "cell_type": "markdown",
   "source": [
    "## A) Descriptive analysis\n",
    "1. Please describe the format of the data files. Can you identify any limitations or distortions of the data?\n",
    "2. What is the most popular name of all time? (Of either gender.)\n",
    "3. What is the most gender ambiguous name in 2013? 1945?\n",
    "4. Of the names represented in the data, find the name that has had the largest percentage increase in popularity since 1980. Largest decrease?\n",
    "5. Can you identify names that may have had an even larger increase or decrease in popularity?"
   ],
   "id": "243365e116025725"
  },
  {
   "metadata": {},
   "cell_type": "markdown",
   "source": [
    "#### Part 1 - Understanding the file\n",
    "\n",
    "- Q: Please describe the format of the data files. Can you identify any limitations or distortions of the data?"
   ],
   "id": "3dd3e14384e86844"
  },
  {
   "metadata": {},
   "cell_type": "markdown",
   "source": [
    "- Data Format:\n",
    "\n",
    "    - The data is provided in comma-delimited text files (.TXT), one for each state.\n",
    "\n",
    "    - Each record contains five fields: State Code, Sex (M/F), Year of Birth, Name, and the number of occurrences.\n",
    "\n",
    "- Data Limitations & Distortions:\n",
    "\n",
    "    1. Exclusion of Uncommon Names: The most significant limitation is that names with fewer than 5 occurrences in a given state and year are completely omitted. This distorts the data by over-representing popular names and making it impossible to study the \"long tail\" of rare or unique names.\n",
    "\n",
    "    2. Inaccurate National Aggregates: As a direct result of the first point, summing the state data will not produce an accurate national count. The true national total for any name will be higher than what can be calculated from these files.\n",
    "\n",
    "    3. Source-Related Bias: The data is sourced exclusively from Social Security records. This means individuals born before the widespread adoption of Social Security in the mid-1930s, or those who never received a Social Security Number for other reasons, are not included. This particularly impacts the reliability of the data for the earliest years in the dataset."
   ],
   "id": "ef131988136a716a"
  },
  {
   "metadata": {
    "ExecuteTime": {
     "end_time": "2025-07-09T10:49:34.778478Z",
     "start_time": "2025-07-09T10:49:34.776708Z"
    }
   },
   "cell_type": "code",
   "source": "",
   "id": "4ba273ac3e7d0717",
   "outputs": [],
   "execution_count": null
  },
  {
   "metadata": {},
   "cell_type": "markdown",
   "source": [
    "#### Part 2 - Searching through the data\n",
    "\n",
    "- What is the most popular name of all time? (Of either gender.)"
   ],
   "id": "9df1c8030a0e494a"
  },
  {
   "metadata": {
    "ExecuteTime": {
     "end_time": "2025-07-09T10:49:35.061163Z",
     "start_time": "2025-07-09T10:49:34.783422Z"
    }
   },
   "cell_type": "code",
   "source": [
    "#### Import necessary libraries\n",
    "import os\n",
    "import glob             # Finds all the files ending with .txt\n",
    "import pandas as pd\n",
    "import numpy as np\n",
    "from dotenv import load_dotenv\n"
   ],
   "id": "a0d8c4c525f771e1",
   "outputs": [],
   "execution_count": 1
  },
  {
   "metadata": {
    "ExecuteTime": {
     "end_time": "2025-07-09T10:49:36.367388Z",
     "start_time": "2025-07-09T10:49:35.123531Z"
    }
   },
   "cell_type": "code",
   "source": [
    "# Load variables from the .env file\n",
    "load_dotenv()\n",
    "\n",
    "# Get the data path from the environment variables\n",
    "path = os.getenv(\"DATA_PATH\")\n",
    "\n",
    "# Check if the path was loaded correctly\n",
    "if not path:\n",
    "    raise ValueError(\"DATA_PATH was not found!\")\n",
    "\n",
    "# Locate the files ending in .txt\n",
    "all_files = glob.glob(path + \"/*.TXT\")\n",
    "\n",
    "# Create an empty list for all the dataframes\n",
    "df_list = []\n",
    "\n",
    "# Provide the column names since the text files do not\n",
    "column_names = ['State','Gender','Birth_year','Name','Name_occurrence']\n",
    "\n",
    "# loop through all the text files and create a dataframe for each\n",
    "# Add each dataframe to the df_list\n",
    "for filename in all_files:\n",
    "    df = pd.read_csv(filename, header=None, names=column_names)\n",
    "    df_list.append(df)\n",
    "\n",
    "# Add dataframes together along the row (axis=0)\n",
    "# Show the dataframe\n",
    "names_df = pd.concat(df_list, axis=0, ignore_index=True)\n",
    "print(\"Data was successfully loaded!\")\n",
    "names_df\n"
   ],
   "id": "e1880915a182949a",
   "outputs": [
    {
     "name": "stdout",
     "output_type": "stream",
     "text": [
      "Data was successfully loaded!\n"
     ]
    },
    {
     "data": {
      "text/plain": [
       "        State Gender  Birth_year     Name  Name_occurrence\n",
       "0          IN      F        1910     Mary              619\n",
       "1          IN      F        1910    Helen              324\n",
       "2          IN      F        1910     Ruth              238\n",
       "3          IN      F        1910  Dorothy              215\n",
       "4          IN      F        1910  Mildred              200\n",
       "...       ...    ...         ...      ...              ...\n",
       "6311499    DE      M        2021   Thiago                5\n",
       "6311500    DE      M        2021   Travis                5\n",
       "6311501    DE      M        2021     Troy                5\n",
       "6311502    DE      M        2021   Walker                5\n",
       "6311503    DE      M        2021     Zayn                5\n",
       "\n",
       "[6311504 rows x 5 columns]"
      ],
      "text/html": [
       "<div>\n",
       "<style scoped>\n",
       "    .dataframe tbody tr th:only-of-type {\n",
       "        vertical-align: middle;\n",
       "    }\n",
       "\n",
       "    .dataframe tbody tr th {\n",
       "        vertical-align: top;\n",
       "    }\n",
       "\n",
       "    .dataframe thead th {\n",
       "        text-align: right;\n",
       "    }\n",
       "</style>\n",
       "<table border=\"1\" class=\"dataframe\">\n",
       "  <thead>\n",
       "    <tr style=\"text-align: right;\">\n",
       "      <th></th>\n",
       "      <th>State</th>\n",
       "      <th>Gender</th>\n",
       "      <th>Birth_year</th>\n",
       "      <th>Name</th>\n",
       "      <th>Name_occurrence</th>\n",
       "    </tr>\n",
       "  </thead>\n",
       "  <tbody>\n",
       "    <tr>\n",
       "      <th>0</th>\n",
       "      <td>IN</td>\n",
       "      <td>F</td>\n",
       "      <td>1910</td>\n",
       "      <td>Mary</td>\n",
       "      <td>619</td>\n",
       "    </tr>\n",
       "    <tr>\n",
       "      <th>1</th>\n",
       "      <td>IN</td>\n",
       "      <td>F</td>\n",
       "      <td>1910</td>\n",
       "      <td>Helen</td>\n",
       "      <td>324</td>\n",
       "    </tr>\n",
       "    <tr>\n",
       "      <th>2</th>\n",
       "      <td>IN</td>\n",
       "      <td>F</td>\n",
       "      <td>1910</td>\n",
       "      <td>Ruth</td>\n",
       "      <td>238</td>\n",
       "    </tr>\n",
       "    <tr>\n",
       "      <th>3</th>\n",
       "      <td>IN</td>\n",
       "      <td>F</td>\n",
       "      <td>1910</td>\n",
       "      <td>Dorothy</td>\n",
       "      <td>215</td>\n",
       "    </tr>\n",
       "    <tr>\n",
       "      <th>4</th>\n",
       "      <td>IN</td>\n",
       "      <td>F</td>\n",
       "      <td>1910</td>\n",
       "      <td>Mildred</td>\n",
       "      <td>200</td>\n",
       "    </tr>\n",
       "    <tr>\n",
       "      <th>...</th>\n",
       "      <td>...</td>\n",
       "      <td>...</td>\n",
       "      <td>...</td>\n",
       "      <td>...</td>\n",
       "      <td>...</td>\n",
       "    </tr>\n",
       "    <tr>\n",
       "      <th>6311499</th>\n",
       "      <td>DE</td>\n",
       "      <td>M</td>\n",
       "      <td>2021</td>\n",
       "      <td>Thiago</td>\n",
       "      <td>5</td>\n",
       "    </tr>\n",
       "    <tr>\n",
       "      <th>6311500</th>\n",
       "      <td>DE</td>\n",
       "      <td>M</td>\n",
       "      <td>2021</td>\n",
       "      <td>Travis</td>\n",
       "      <td>5</td>\n",
       "    </tr>\n",
       "    <tr>\n",
       "      <th>6311501</th>\n",
       "      <td>DE</td>\n",
       "      <td>M</td>\n",
       "      <td>2021</td>\n",
       "      <td>Troy</td>\n",
       "      <td>5</td>\n",
       "    </tr>\n",
       "    <tr>\n",
       "      <th>6311502</th>\n",
       "      <td>DE</td>\n",
       "      <td>M</td>\n",
       "      <td>2021</td>\n",
       "      <td>Walker</td>\n",
       "      <td>5</td>\n",
       "    </tr>\n",
       "    <tr>\n",
       "      <th>6311503</th>\n",
       "      <td>DE</td>\n",
       "      <td>M</td>\n",
       "      <td>2021</td>\n",
       "      <td>Zayn</td>\n",
       "      <td>5</td>\n",
       "    </tr>\n",
       "  </tbody>\n",
       "</table>\n",
       "<p>6311504 rows × 5 columns</p>\n",
       "</div>"
      ]
     },
     "execution_count": 2,
     "metadata": {},
     "output_type": "execute_result"
    }
   ],
   "execution_count": 2
  },
  {
   "metadata": {
    "ExecuteTime": {
     "end_time": "2025-07-09T10:49:36.652186Z",
     "start_time": "2025-07-09T10:49:36.397885Z"
    }
   },
   "cell_type": "code",
   "source": [
    "# Groupby name and sum the occurrences each time it is found\n",
    "# Sort the names in descending order to determine max value\n",
    "total_name_counts = names_df.groupby('Name')['Name_occurrence'].sum()\n",
    "most_popular_name = total_name_counts.sort_values(ascending=False).index[0]\n",
    "print(f'The most popular name of all time is: {most_popular_name} with a total count of {total_name_counts.loc[most_popular_name]}')"
   ],
   "id": "b66416d56b8688c8",
   "outputs": [
    {
     "name": "stdout",
     "output_type": "stream",
     "text": [
      "The most popular name of all time is: James with a total count of 5054074\n"
     ]
    }
   ],
   "execution_count": 3
  },
  {
   "metadata": {
    "ExecuteTime": {
     "end_time": "2025-07-09T10:49:36.679712Z",
     "start_time": "2025-07-09T10:49:36.677219Z"
    }
   },
   "cell_type": "code",
   "source": "total_name_counts",
   "id": "661057a496db913a",
   "outputs": [
    {
     "data": {
      "text/plain": [
       "Name\n",
       "Aaban         12\n",
       "Aadam          6\n",
       "Aadan         23\n",
       "Aadarsh       11\n",
       "Aaden       4173\n",
       "            ... \n",
       "Zyria         81\n",
       "Zyriah        63\n",
       "Zyron          5\n",
       "Zyrus          5\n",
       "Zyshonne       5\n",
       "Name: Name_occurrence, Length: 32403, dtype: int64"
      ]
     },
     "execution_count": 4,
     "metadata": {},
     "output_type": "execute_result"
    }
   ],
   "execution_count": 4
  },
  {
   "metadata": {},
   "cell_type": "markdown",
   "source": [
    "#### Part 3 - Boy or Girl\n",
    "- Q: What is the most gender ambiguous name in 2013? 1945?"
   ],
   "id": "18cc91f86ee6ae7e"
  },
  {
   "metadata": {
    "ExecuteTime": {
     "end_time": "2025-07-09T10:49:36.718268Z",
     "start_time": "2025-07-09T10:49:36.715260Z"
    }
   },
   "cell_type": "code",
   "source": [
    "# Function to isolate the names by a specific year\n",
    "def names_by_year(dataframe, column_name, year):\n",
    "    \"\"\"\n",
    "    Filters a DataFrame to select rows for a specific year.\n",
    "\n",
    "    Args:\n",
    "        dataframe (pd.DataFrame): The input DataFrame.\n",
    "        column_name (str): The name of the column containing the year.\n",
    "        year (int): The year to filter by.\n",
    "\n",
    "    Returns:\n",
    "        pd.DataFrame: A new DataFrame containing only the data for the specified year.\n",
    "    \"\"\"\n",
    "    names_in_year = dataframe[dataframe[column_name] == year]\n",
    "    return names_in_year\n",
    "\n",
    "# Function to calculate the total for each name in a specific year\n",
    "def get_name_totals(dataframe_year, name_col, sex_col, count_col):\n",
    "    \"\"\"\n",
    "    Groups a DataFrame by name and sex to calculate the total count for each name.\n",
    "\n",
    "    Args:\n",
    "        dataframe_year (pd.DataFrame): The input DataFrame (e.g., names_2013).\n",
    "        name_col (str): The column name for the names.\n",
    "        sex_col (str): The column name for the sex/gender.\n",
    "        count_col (str): The column name for the counts/occurrences.\n",
    "\n",
    "    Returns:\n",
    "        pd.DataFrame: A new DataFrame with the summed counts for each name/sex combination.\n",
    "    \"\"\"\n",
    "    # Group by the name and sex columns, then sum the count column for each group.\n",
    "    name_totals = dataframe_year.groupby([name_col, sex_col])[count_col].sum().reset_index()\n",
    "    return name_totals\n",
    "\n",
    "# Function to calculate the ambiguity score of the names in the dataframe\n",
    "def calculate_ambiguity_score(dataframe_name, female_col='F', male_col='M'):\n",
    "    \"\"\"\n",
    "    Calculates and adds Total, Min_count, and Ambiguity_score columns to a DataFrame.\n",
    "\n",
    "    Args:\n",
    "        dataframe_name (pd.DataFrame): The input DataFrame. Must have columns for female and male counts.\n",
    "        female_col (str): The name of the column for female counts. Defaults to 'F'.\n",
    "        male_col (str): The name of the column for male counts. Defaults to 'M'.\n",
    "\n",
    "    Returns:\n",
    "        pd.DataFrame: The DataFrame with the new columns added.\n",
    "    \"\"\"\n",
    "    # Create a copy to avoid modifying the original DataFrame unexpectedly\n",
    "    df_copy = dataframe_name.copy()\n",
    "\n",
    "    # Calculate the total and minimum counts\n",
    "    df_copy['Total'] = df_copy[female_col] + df_copy[male_col]\n",
    "    df_copy['Min_count'] = df_copy[[female_col, male_col]].min(axis=1)\n",
    "\n",
    "    # Calculate the ambiguity score\n",
    "    df_copy['Ambiguity_score'] = df_copy['Min_count'] / df_copy['Total']\n",
    "\n",
    "    return df_copy"
   ],
   "id": "e076b46cc593a810",
   "outputs": [],
   "execution_count": 5
  },
  {
   "metadata": {
    "ExecuteTime": {
     "end_time": "2025-07-09T10:49:36.763961Z",
     "start_time": "2025-07-09T10:49:36.735712Z"
    }
   },
   "cell_type": "code",
   "source": [
    "# Use function to isolate the names by year\n",
    "names_2013 = names_by_year(names_df, 'Birth_year', 2013)\n",
    "names_1945 = names_by_year(names_df, 'Birth_year', 1945)\n",
    "\n",
    "# Use function to determine the total count for each name\n",
    "names_total_2013 = get_name_totals(names_2013, 'Name','Gender', 'Name_occurrence')\n",
    "names_total_1945 = get_name_totals(names_1945, 'Name','Gender', 'Name_occurrence')"
   ],
   "id": "f506b10485742a4d",
   "outputs": [],
   "execution_count": 6
  },
  {
   "metadata": {
    "ExecuteTime": {
     "end_time": "2025-07-09T10:49:36.829645Z",
     "start_time": "2025-07-09T10:49:36.819535Z"
    }
   },
   "cell_type": "code",
   "source": [
    "# Create pivot table to place genders in separate columns\n",
    "ambiguity_df_2013 = names_total_2013.pivot_table(\n",
    "    index='Name',\n",
    "    columns='Gender',\n",
    "    values='Name_occurrence',\n",
    "    fill_value=0 # Replace NaN with a 0\n",
    ")\n",
    "\n",
    "ambiguity_df_1945 = names_total_1945.pivot_table(\n",
    "    index='Name',\n",
    "    columns='Gender',\n",
    "    values='Name_occurrence',\n",
    "    fill_value=0 # Replace NaN with a 0 for names that are exclusively M or F\n",
    ")"
   ],
   "id": "72e1b61cc344a0e9",
   "outputs": [],
   "execution_count": 7
  },
  {
   "metadata": {
    "ExecuteTime": {
     "end_time": "2025-07-09T10:49:36.844145Z",
     "start_time": "2025-07-09T10:49:36.841724Z"
    }
   },
   "cell_type": "code",
   "source": [
    "# Check if NaN or missing values were replaced with a zero\n",
    "ambiguity_df_2013.isnull().sum()"
   ],
   "id": "7c70dca6fb7d258",
   "outputs": [
    {
     "data": {
      "text/plain": [
       "Gender\n",
       "F    0\n",
       "M    0\n",
       "dtype: int64"
      ]
     },
     "execution_count": 8,
     "metadata": {},
     "output_type": "execute_result"
    }
   ],
   "execution_count": 8
  },
  {
   "metadata": {
    "ExecuteTime": {
     "end_time": "2025-07-09T10:49:36.862355Z",
     "start_time": "2025-07-09T10:49:36.856466Z"
    }
   },
   "cell_type": "code",
   "source": [
    "# Use the function to determine the ambiguity score of each name for the desired year\n",
    "ambiguity_score_1945_df = calculate_ambiguity_score(ambiguity_df_1945, 'F', 'M')\n",
    "ambiguity_score_2013_df = calculate_ambiguity_score(ambiguity_df_2013, 'F', 'M')\n",
    "\n",
    "# Sort the rows in descending order and pull the top 10 names\n",
    "ten_most_ambiguous_names_2013 = ambiguity_score_2013_df.sort_values(by=['Ambiguity_score'], ascending=False).head(10)\n",
    "ten_most_ambiguous_names_1945 = ambiguity_score_1945_df.sort_values(by=['Ambiguity_score'], ascending=False).head(10)\n",
    "\n",
    "# Print the names with the highest ambiguity score for 2013 and 1945\n",
    "print(f'The most ambiguous name in the year 1945 was {ten_most_ambiguous_names_1945.index[0]}!\\n')\n",
    "print(f'The most ambiguous name in the year 2013 was {ten_most_ambiguous_names_2013.index[0]}!')"
   ],
   "id": "b0e5ff40ff953cd7",
   "outputs": [
    {
     "name": "stdout",
     "output_type": "stream",
     "text": [
      "The most ambiguous name in the year 1945 was Maxie!\n",
      "\n",
      "The most ambiguous name in the year 2013 was Arlin!\n"
     ]
    }
   ],
   "execution_count": 9
  },
  {
   "metadata": {},
   "cell_type": "markdown",
   "source": [
    "#### Part 4 - Mr & Ms popular\n",
    "\n",
    "- Q: Of the names represented in the data, find the name that has had the largest percentage increase in popularity since 1980. Largest decrease?"
   ],
   "id": "3c2b24e263176988"
  },
  {
   "metadata": {
    "ExecuteTime": {
     "end_time": "2025-07-09T10:49:37.329974Z",
     "start_time": "2025-07-09T10:49:36.877734Z"
    }
   },
   "cell_type": "code",
   "source": [
    "# Get the total births for each year\n",
    "total_births_per_year = names_df.groupby(['Birth_year'])['Name_occurrence'].sum().reset_index()\n",
    "total_births_per_year.rename({'Name_occurrence': 'Total_births'}, axis=1, inplace=True)\n",
    "\n",
    "# Merge total births back into the main dataframe\n",
    "names_df = pd.merge(names_df,total_births_per_year,on='Birth_year')\n",
    "\n",
    "\"\"\"\n",
    "This allows us to compare the number of times a name appeared vs the number of births that year\n",
    "\"\"\"\n",
    "\n",
    "# Calculate the popularity of each name\n",
    "names_df['Popularity'] = (names_df['Name_occurrence'] / names_df['Total_births'])\n",
    "\n",
    "# Sum the popularity of name for each year regardless of gender\n",
    "name_popularity = names_df.groupby(['Birth_year','Name'])['Popularity'].sum().reset_index()"
   ],
   "id": "d5557c7031c10ccc",
   "outputs": [],
   "execution_count": 10
  },
  {
   "metadata": {
    "ExecuteTime": {
     "end_time": "2025-07-09T10:52:52.246268Z",
     "start_time": "2025-07-09T10:52:51.721690Z"
    }
   },
   "cell_type": "code",
   "source": [
    "# Sum the popularity for each name. This is exclusive of the gender\n",
    "name_popularity = names_df.groupby(['Birth_year','Name'])['Popularity'].sum().reset_index()\n",
    "name_popularity"
   ],
   "id": "24fa7553fcfc8367",
   "outputs": [
    {
     "data": {
      "text/plain": [
       "        Birth_year     Name  Popularity\n",
       "0             1910    Aaron    0.000215\n",
       "1             1910    Abbie    0.000054\n",
       "2             1910      Abe    0.000060\n",
       "3             1910    Abner    0.000023\n",
       "4             1910  Abraham    0.000267\n",
       "...            ...      ...         ...\n",
       "612485        2021     Zylo    0.000002\n",
       "612486        2021    Zymir    0.000034\n",
       "612487        2021     Zyon    0.000072\n",
       "612488        2021     Zyra    0.000013\n",
       "612489        2021    Zyrus    0.000002\n",
       "\n",
       "[612490 rows x 3 columns]"
      ],
      "text/html": [
       "<div>\n",
       "<style scoped>\n",
       "    .dataframe tbody tr th:only-of-type {\n",
       "        vertical-align: middle;\n",
       "    }\n",
       "\n",
       "    .dataframe tbody tr th {\n",
       "        vertical-align: top;\n",
       "    }\n",
       "\n",
       "    .dataframe thead th {\n",
       "        text-align: right;\n",
       "    }\n",
       "</style>\n",
       "<table border=\"1\" class=\"dataframe\">\n",
       "  <thead>\n",
       "    <tr style=\"text-align: right;\">\n",
       "      <th></th>\n",
       "      <th>Birth_year</th>\n",
       "      <th>Name</th>\n",
       "      <th>Popularity</th>\n",
       "    </tr>\n",
       "  </thead>\n",
       "  <tbody>\n",
       "    <tr>\n",
       "      <th>0</th>\n",
       "      <td>1910</td>\n",
       "      <td>Aaron</td>\n",
       "      <td>0.000215</td>\n",
       "    </tr>\n",
       "    <tr>\n",
       "      <th>1</th>\n",
       "      <td>1910</td>\n",
       "      <td>Abbie</td>\n",
       "      <td>0.000054</td>\n",
       "    </tr>\n",
       "    <tr>\n",
       "      <th>2</th>\n",
       "      <td>1910</td>\n",
       "      <td>Abe</td>\n",
       "      <td>0.000060</td>\n",
       "    </tr>\n",
       "    <tr>\n",
       "      <th>3</th>\n",
       "      <td>1910</td>\n",
       "      <td>Abner</td>\n",
       "      <td>0.000023</td>\n",
       "    </tr>\n",
       "    <tr>\n",
       "      <th>4</th>\n",
       "      <td>1910</td>\n",
       "      <td>Abraham</td>\n",
       "      <td>0.000267</td>\n",
       "    </tr>\n",
       "    <tr>\n",
       "      <th>...</th>\n",
       "      <td>...</td>\n",
       "      <td>...</td>\n",
       "      <td>...</td>\n",
       "    </tr>\n",
       "    <tr>\n",
       "      <th>612485</th>\n",
       "      <td>2021</td>\n",
       "      <td>Zylo</td>\n",
       "      <td>0.000002</td>\n",
       "    </tr>\n",
       "    <tr>\n",
       "      <th>612486</th>\n",
       "      <td>2021</td>\n",
       "      <td>Zymir</td>\n",
       "      <td>0.000034</td>\n",
       "    </tr>\n",
       "    <tr>\n",
       "      <th>612487</th>\n",
       "      <td>2021</td>\n",
       "      <td>Zyon</td>\n",
       "      <td>0.000072</td>\n",
       "    </tr>\n",
       "    <tr>\n",
       "      <th>612488</th>\n",
       "      <td>2021</td>\n",
       "      <td>Zyra</td>\n",
       "      <td>0.000013</td>\n",
       "    </tr>\n",
       "    <tr>\n",
       "      <th>612489</th>\n",
       "      <td>2021</td>\n",
       "      <td>Zyrus</td>\n",
       "      <td>0.000002</td>\n",
       "    </tr>\n",
       "  </tbody>\n",
       "</table>\n",
       "<p>612490 rows × 3 columns</p>\n",
       "</div>"
      ]
     },
     "execution_count": 13,
     "metadata": {},
     "output_type": "execute_result"
    }
   ],
   "execution_count": 13
  },
  {
   "metadata": {
    "ExecuteTime": {
     "end_time": "2025-07-09T10:49:37.376776Z",
     "start_time": "2025-07-09T10:49:37.375588Z"
    }
   },
   "cell_type": "code",
   "source": "",
   "id": "375ad39ccfc2b6f5",
   "outputs": [],
   "execution_count": null
  }
 ],
 "metadata": {},
 "nbformat": 4,
 "nbformat_minor": 5
}
