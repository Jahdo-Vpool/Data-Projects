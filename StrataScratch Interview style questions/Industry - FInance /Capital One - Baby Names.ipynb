{
 "cells": [
  {
   "metadata": {},
   "cell_type": "markdown",
   "source": [
    "## A) Descriptive analysis\n",
    "1. Please describe the format of the data files. Can you identify any limitations or distortions of the data?\n",
    "2. What is the most popular name of all time? (Of either gender.)\n",
    "3. What is the most gender ambiguous name in 2013? 1945?\n",
    "4. Of the names represented in the data, find the name that has had the largest percentage increase in popularity since 1980. Largest decrease?\n",
    "5. Can you identify names that may have had an even larger increase or decrease in popularity?"
   ],
   "id": "243365e116025725"
  },
  {
   "metadata": {},
   "cell_type": "markdown",
   "source": "### Part 1 - Understanding the file",
   "id": "3dd3e14384e86844"
  },
  {
   "metadata": {},
   "cell_type": "markdown",
   "source": [
    "- Data Format:\n",
    "\n",
    "    - The data is provided in comma-delimited text files (.TXT), one for each state.\n",
    "\n",
    "    - Each record contains five fields: State Code, Sex (M/F), Year of Birth, Name, and the number of occurrences.\n",
    "\n",
    "- Data Limitations & Distortions:\n",
    "\n",
    "    1. Exclusion of Uncommon Names: The most significant limitation is that names with fewer than 5 occurrences in a given state and year are completely omitted. This distorts the data by over-representing popular names and making it impossible to study the \"long tail\" of rare or unique names.\n",
    "\n",
    "    2. Inaccurate National Aggregates: As a direct result of the first point, summing the state data will not produce an accurate national count. The true national total for any name will be higher than what can be calculated from these files.\n",
    "\n",
    "    3. Source-Related Bias: The data is sourced exclusively from Social Security records. This means individuals born before the widespread adoption of Social Security in the mid-1930s, or those who never received a Social Security Number for other reasons, are not included. This particularly impacts the reliability of the data for the earliest years in the dataset."
   ],
   "id": "ef131988136a716a"
  },
  {
   "metadata": {},
   "cell_type": "markdown",
   "source": "### Part 2 - Searching through the data",
   "id": "9df1c8030a0e494a"
  },
  {
   "metadata": {
    "ExecuteTime": {
     "end_time": "2025-07-08T20:53:44.890969Z",
     "start_time": "2025-07-08T20:53:44.294502Z"
    }
   },
   "cell_type": "code",
   "source": [
    "#### Import necessary libraries\n",
    "import os\n",
    "import glob             # Finds all the files ending with .txt\n",
    "import pandas as pd\n",
    "import numpy as np\n",
    "from dotenv import load_dotenv\n"
   ],
   "id": "a0d8c4c525f771e1",
   "outputs": [],
   "execution_count": 1
  },
  {
   "metadata": {
    "ExecuteTime": {
     "end_time": "2025-07-08T20:53:47.497112Z",
     "start_time": "2025-07-08T20:53:44.911164Z"
    }
   },
   "cell_type": "code",
   "source": [
    "# Load variables from the .env file\n",
    "load_dotenv()\n",
    "\n",
    "# Get the data path from the environment variables\n",
    "path = os.getenv(\"DATA_PATH\")\n",
    "\n",
    "# Check if the path was loaded correctly\n",
    "if not path:\n",
    "    raise ValueError(\"DATA_PATH was not found!\")\n",
    "\n",
    "# Locate the files ending in .txt\n",
    "all_files = glob.glob(path + \"/*.TXT\")\n",
    "\n",
    "# Create an empty list for all the dataframes\n",
    "df_list = []\n",
    "\n",
    "# Provide the column names since the text files do not\n",
    "column_names = ['State','Gender','Birth_year','Name','Name_occurrence']\n",
    "\n",
    "# loop through all the text files and create a dataframe for each\n",
    "# Add each dataframe to the df_list\n",
    "for filename in all_files:\n",
    "    df = pd.read_csv(filename, header=None, names=column_names)\n",
    "    df_list.append(df)\n",
    "\n",
    "# Add dataframes together along the row (axis=0)\n",
    "# Show the dataframe\n",
    "names_df = pd.concat(df_list, axis=0, ignore_index=True)\n",
    "print(\"Data was successfully loaded!\")\n",
    "names_df.head()\n"
   ],
   "id": "e1880915a182949a",
   "outputs": [
    {
     "name": "stdout",
     "output_type": "stream",
     "text": [
      "Data was successfully loaded!\n"
     ]
    },
    {
     "data": {
      "text/plain": [
       "  State Gender  Birth_year     Name  Name_occurrence\n",
       "0    IN      F        1910     Mary              619\n",
       "1    IN      F        1910    Helen              324\n",
       "2    IN      F        1910     Ruth              238\n",
       "3    IN      F        1910  Dorothy              215\n",
       "4    IN      F        1910  Mildred              200"
      ],
      "text/html": [
       "<div>\n",
       "<style scoped>\n",
       "    .dataframe tbody tr th:only-of-type {\n",
       "        vertical-align: middle;\n",
       "    }\n",
       "\n",
       "    .dataframe tbody tr th {\n",
       "        vertical-align: top;\n",
       "    }\n",
       "\n",
       "    .dataframe thead th {\n",
       "        text-align: right;\n",
       "    }\n",
       "</style>\n",
       "<table border=\"1\" class=\"dataframe\">\n",
       "  <thead>\n",
       "    <tr style=\"text-align: right;\">\n",
       "      <th></th>\n",
       "      <th>State</th>\n",
       "      <th>Gender</th>\n",
       "      <th>Birth_year</th>\n",
       "      <th>Name</th>\n",
       "      <th>Name_occurrence</th>\n",
       "    </tr>\n",
       "  </thead>\n",
       "  <tbody>\n",
       "    <tr>\n",
       "      <th>0</th>\n",
       "      <td>IN</td>\n",
       "      <td>F</td>\n",
       "      <td>1910</td>\n",
       "      <td>Mary</td>\n",
       "      <td>619</td>\n",
       "    </tr>\n",
       "    <tr>\n",
       "      <th>1</th>\n",
       "      <td>IN</td>\n",
       "      <td>F</td>\n",
       "      <td>1910</td>\n",
       "      <td>Helen</td>\n",
       "      <td>324</td>\n",
       "    </tr>\n",
       "    <tr>\n",
       "      <th>2</th>\n",
       "      <td>IN</td>\n",
       "      <td>F</td>\n",
       "      <td>1910</td>\n",
       "      <td>Ruth</td>\n",
       "      <td>238</td>\n",
       "    </tr>\n",
       "    <tr>\n",
       "      <th>3</th>\n",
       "      <td>IN</td>\n",
       "      <td>F</td>\n",
       "      <td>1910</td>\n",
       "      <td>Dorothy</td>\n",
       "      <td>215</td>\n",
       "    </tr>\n",
       "    <tr>\n",
       "      <th>4</th>\n",
       "      <td>IN</td>\n",
       "      <td>F</td>\n",
       "      <td>1910</td>\n",
       "      <td>Mildred</td>\n",
       "      <td>200</td>\n",
       "    </tr>\n",
       "  </tbody>\n",
       "</table>\n",
       "</div>"
      ]
     },
     "execution_count": 2,
     "metadata": {},
     "output_type": "execute_result"
    }
   ],
   "execution_count": 2
  },
  {
   "metadata": {},
   "cell_type": "markdown",
   "source": [
    "#### Part 3 - Boy or Girl\n",
    "\n",
    "- To determine the most gender ambiguous name lets find the name with as much male and female matches"
   ],
   "id": "18cc91f86ee6ae7e"
  },
  {
   "metadata": {
    "ExecuteTime": {
     "end_time": "2025-07-08T20:53:47.716637Z",
     "start_time": "2025-07-08T20:53:47.711782Z"
    }
   },
   "cell_type": "code",
   "source": [
    "# Function to isolate the names by a specific year\n",
    "def names_by_year(dataframe, column_name, year):\n",
    "    \"\"\"\n",
    "    Filters a DataFrame to select rows for a specific year.\n",
    "\n",
    "    Args:\n",
    "        dataframe (pd.DataFrame): The input DataFrame.\n",
    "        column_name (str): The name of the column containing the year.\n",
    "        year (int): The year to filter by.\n",
    "\n",
    "    Returns:\n",
    "        pd.DataFrame: A new DataFrame containing only the data for the specified year.\n",
    "    \"\"\"\n",
    "    names_in_year = dataframe[dataframe[column_name] == year]\n",
    "    return names_in_year"
   ],
   "id": "cf6b898f72bfb65d",
   "outputs": [],
   "execution_count": 3
  },
  {
   "metadata": {
    "ExecuteTime": {
     "end_time": "2025-07-08T20:53:47.862124Z",
     "start_time": "2025-07-08T20:53:47.838880Z"
    }
   },
   "cell_type": "code",
   "source": [
    "names_2013 = names_by_year(names_df, 'Birth_year', 2013)\n",
    "names_1945 = names_by_year(names_df, 'Birth_year', 1945)"
   ],
   "id": "f506b10485742a4d",
   "outputs": [],
   "execution_count": 4
  },
  {
   "metadata": {
    "ExecuteTime": {
     "end_time": "2025-07-08T20:59:03.929257Z",
     "start_time": "2025-07-08T20:59:03.923007Z"
    }
   },
   "cell_type": "code",
   "source": [
    "# Function to calculate the total for each name in a specific year\n",
    "def get_name_totals(dataframe_year, name_col, sex_col, count_col):\n",
    "    \"\"\"\n",
    "    Groups a DataFrame by name and sex to calculate the total count for each name.\n",
    "\n",
    "    Args:\n",
    "        dataframe_year (pd.DataFrame): The input DataFrame (e.g., names_2013).\n",
    "        name_col (str): The column name for the names.\n",
    "        sex_col (str): The column name for the sex/gender.\n",
    "        count_col (str): The column name for the counts/occurrences.\n",
    "\n",
    "    Returns:\n",
    "        pd.DataFrame: A new DataFrame with the summed counts for each name/sex combination.\n",
    "    \"\"\"\n",
    "    # Group by the name and sex columns, then sum the count column for each group.\n",
    "    name_totals = dataframe_year.groupby([name_col, sex_col])[count_col].sum().reset_index()\n",
    "    return name_totals"
   ],
   "id": "e076b46cc593a810",
   "outputs": [],
   "execution_count": 7
  },
  {
   "metadata": {
    "ExecuteTime": {
     "end_time": "2025-07-08T21:00:59.765288Z",
     "start_time": "2025-07-08T21:00:59.741221Z"
    }
   },
   "cell_type": "code",
   "source": [
    "names_total_2013 = get_name_totals(names_2013, 'Name','Gender', 'Name_occurrence')\n",
    "names_total_1945 = get_name_totals(names_1945, 'Name','Gender', 'Name_occurrence')"
   ],
   "id": "c148d5b1e5666b91",
   "outputs": [],
   "execution_count": 9
  },
  {
   "metadata": {},
   "cell_type": "code",
   "outputs": [],
   "execution_count": null,
   "source": "",
   "id": "72e1b61cc344a0e9"
  }
 ],
 "metadata": {},
 "nbformat": 4,
 "nbformat_minor": 5
}
